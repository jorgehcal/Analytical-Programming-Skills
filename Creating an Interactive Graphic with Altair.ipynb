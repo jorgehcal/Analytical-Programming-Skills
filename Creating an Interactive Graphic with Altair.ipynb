{
 "cells": [
  {
   "cell_type": "markdown",
   "id": "constant-updating",
   "metadata": {},
   "source": [
    "# Creating an interactive bar graph with Altair"
   ]
  },
  {
   "cell_type": "markdown",
   "id": "arabic-rating",
   "metadata": {},
   "source": [
    "# <a id = 'indice'> <a/> Sections\n",
    "1.  <a href = '#paquetes'> Necessary packages<a/> \n",
    "2.  <a href = '#intro'> Load the data<a/>\n",
    "3.  <a href = '#obj'> Objective of this Jupyter Notebook<a/>\n",
    "4.  <a href = '#ej2'> Process the data <a/>\n",
    "5.  <a href = '#ej5'> Create a new variable for Sex<a/>\n",
    "6.  <a href = '#ej3'> Aesthetic details <a/>\n",
    "7.  <a href = '#ej8'> Interactive data visualization <a/>\n"
   ]
  },
  {
   "cell_type": "markdown",
   "id": "inner-contributor",
   "metadata": {},
   "source": [
    "<a id = 'paquetes'><a/>\n",
    "## 1) Import the necessary packages"
   ]
  },
  {
   "cell_type": "code",
   "execution_count": 1,
   "id": "driving-purse",
   "metadata": {},
   "outputs": [],
   "source": [
    "import pandas as pd # to deal with dataframes\n",
    "import altair as alt # to draw the graphic\n",
    "pd.set_option('mode.chained_assignment', None) # hides a warning which is not necessary for our case"
   ]
  },
  {
   "cell_type": "markdown",
   "id": "medieval-daisy",
   "metadata": {},
   "source": [
    "<a id = 'intro'><a/>\n",
    "## 2) Load the data and Introduction"
   ]
  },
  {
   "cell_type": "markdown",
   "id": "surrounded-conversion",
   "metadata": {},
   "source": [
    "I work with the following dataframe (you can find YourData.xls in the GitHub):"
   ]
  },
  {
   "cell_type": "code",
   "execution_count": 2,
   "id": "included-amino",
   "metadata": {},
   "outputs": [],
   "source": [
    "df = pd.read_excel(r'C:\\Users\\ramon\\Desktop\\Mates de Jorge\\UGR, Análisis datos Covid-19\\YourData.xls'\n",
    "                   , sheet_name=0, usecols='A:Q', header=1, nrows=30)\n",
    "\n",
    "# Note: replace C:\\Users\\ramon\\Desktop\\Mates de Jorge\\UGR, Análisis datos Covid-19\\YourData.xls by\n",
    "# YourWorkingDirectory\\YourData.xls \n",
    "# and you will be able to compile this Jupyter Notebook in your own computer.\n"
   ]
  },
  {
   "cell_type": "markdown",
   "id": "accepted-swimming",
   "metadata": {},
   "source": [
    "I show you how the dataframe looks like: it needs some processing and rearranging before a graphic may be created."
   ]
  },
  {
   "cell_type": "code",
   "execution_count": 3,
   "id": "nutritional-vampire",
   "metadata": {
    "scrolled": true
   },
   "outputs": [
    {
     "data": {
      "text/html": [
       "<div>\n",
       "<style scoped>\n",
       "    .dataframe tbody tr th:only-of-type {\n",
       "        vertical-align: middle;\n",
       "    }\n",
       "\n",
       "    .dataframe tbody tr th {\n",
       "        vertical-align: top;\n",
       "    }\n",
       "\n",
       "    .dataframe thead th {\n",
       "        text-align: right;\n",
       "    }\n",
       "</style>\n",
       "<table border=\"1\" class=\"dataframe\">\n",
       "  <thead>\n",
       "    <tr style=\"text-align: right;\">\n",
       "      <th></th>\n",
       "      <th>Unnamed: 0</th>\n",
       "      <th>Unnamed: 1</th>\n",
       "      <th>Estimation</th>\n",
       "      <th>lim inf IC</th>\n",
       "      <th>lim sup IC</th>\n",
       "      <th>Estimation.1</th>\n",
       "      <th>lim inf IC.1</th>\n",
       "      <th>lim sup IC.1</th>\n",
       "    </tr>\n",
       "  </thead>\n",
       "  <tbody>\n",
       "    <tr>\n",
       "      <th>0</th>\n",
       "      <td>All ages</td>\n",
       "      <td>Excellent</td>\n",
       "      <td>0.152182</td>\n",
       "      <td>0.133934</td>\n",
       "      <td>0.17242</td>\n",
       "      <td>0.100654</td>\n",
       "      <td>0.086984</td>\n",
       "      <td>0.1162</td>\n",
       "    </tr>\n",
       "    <tr>\n",
       "      <th>1</th>\n",
       "      <td>NaN</td>\n",
       "      <td>Very Good</td>\n",
       "      <td>0.243303</td>\n",
       "      <td>0.221006</td>\n",
       "      <td>0.26708</td>\n",
       "      <td>0.210088</td>\n",
       "      <td>0.190977</td>\n",
       "      <td>0.23057</td>\n",
       "    </tr>\n",
       "    <tr>\n",
       "      <th>2</th>\n",
       "      <td>NaN</td>\n",
       "      <td>Good</td>\n",
       "      <td>0.478433</td>\n",
       "      <td>0.451695</td>\n",
       "      <td>0.50529</td>\n",
       "      <td>0.492307</td>\n",
       "      <td>0.468007</td>\n",
       "      <td>0.51664</td>\n",
       "    </tr>\n",
       "    <tr>\n",
       "      <th>3</th>\n",
       "      <td>NaN</td>\n",
       "      <td>Regular</td>\n",
       "      <td>0.111609</td>\n",
       "      <td>0.095756</td>\n",
       "      <td>0.12971</td>\n",
       "      <td>0.168296</td>\n",
       "      <td>0.150763</td>\n",
       "      <td>0.18742</td>\n",
       "    </tr>\n",
       "    <tr>\n",
       "      <th>4</th>\n",
       "      <td>NaN</td>\n",
       "      <td>Bad</td>\n",
       "      <td>0.014472</td>\n",
       "      <td>0.009095</td>\n",
       "      <td>0.02296</td>\n",
       "      <td>0.028656</td>\n",
       "      <td>0.021486</td>\n",
       "      <td>0.03812</td>\n",
       "    </tr>\n",
       "    <tr>\n",
       "      <th>5</th>\n",
       "      <td>NaN</td>\n",
       "      <td>Total</td>\n",
       "      <td>1.0</td>\n",
       "      <td>NaN</td>\n",
       "      <td>NaN</td>\n",
       "      <td>1.0</td>\n",
       "      <td>NaN</td>\n",
       "      <td>NaN</td>\n",
       "    </tr>\n",
       "    <tr>\n",
       "      <th>6</th>\n",
       "      <td>16-29</td>\n",
       "      <td>Excellent</td>\n",
       "      <td>0.365254</td>\n",
       "      <td>0.302048</td>\n",
       "      <td>0.43347</td>\n",
       "      <td>0.209061</td>\n",
       "      <td>0.166024</td>\n",
       "      <td>0.25978</td>\n",
       "    </tr>\n",
       "    <tr>\n",
       "      <th>7</th>\n",
       "      <td>NaN</td>\n",
       "      <td>Very Good</td>\n",
       "      <td>0.342935</td>\n",
       "      <td>0.280595</td>\n",
       "      <td>0.41121</td>\n",
       "      <td>0.343133</td>\n",
       "      <td>0.290265</td>\n",
       "      <td>0.4002</td>\n",
       "    </tr>\n",
       "    <tr>\n",
       "      <th>8</th>\n",
       "      <td>NaN</td>\n",
       "      <td>Good</td>\n",
       "      <td>0.273023</td>\n",
       "      <td>0.216241</td>\n",
       "      <td>0.33828</td>\n",
       "      <td>0.375451</td>\n",
       "      <td>0.32104</td>\n",
       "      <td>0.4332</td>\n",
       "    </tr>\n",
       "    <tr>\n",
       "      <th>9</th>\n",
       "      <td>NaN</td>\n",
       "      <td>Regular</td>\n",
       "      <td>0.018789</td>\n",
       "      <td>0.007006</td>\n",
       "      <td>0.0494</td>\n",
       "      <td>0.072355</td>\n",
       "      <td>0.046945</td>\n",
       "      <td>0.10993</td>\n",
       "    </tr>\n",
       "    <tr>\n",
       "      <th>10</th>\n",
       "      <td>NaN</td>\n",
       "      <td>Bad</td>\n",
       "      <td>-</td>\n",
       "      <td>-</td>\n",
       "      <td>-</td>\n",
       "      <td>-</td>\n",
       "      <td>-</td>\n",
       "      <td>-</td>\n",
       "    </tr>\n",
       "    <tr>\n",
       "      <th>11</th>\n",
       "      <td>NaN</td>\n",
       "      <td>Total</td>\n",
       "      <td>1.000001</td>\n",
       "      <td>NaN</td>\n",
       "      <td>NaN</td>\n",
       "      <td>1.0</td>\n",
       "      <td>NaN</td>\n",
       "      <td>NaN</td>\n",
       "    </tr>\n",
       "    <tr>\n",
       "      <th>12</th>\n",
       "      <td>30-44</td>\n",
       "      <td>Excellent</td>\n",
       "      <td>0.177333</td>\n",
       "      <td>0.141981</td>\n",
       "      <td>0.21924</td>\n",
       "      <td>0.143175</td>\n",
       "      <td>0.114454</td>\n",
       "      <td>0.17766</td>\n",
       "    </tr>\n",
       "    <tr>\n",
       "      <th>13</th>\n",
       "      <td>NaN</td>\n",
       "      <td>Very Good</td>\n",
       "      <td>0.293062</td>\n",
       "      <td>0.249689</td>\n",
       "      <td>0.34055</td>\n",
       "      <td>0.257664</td>\n",
       "      <td>0.220252</td>\n",
       "      <td>0.29899</td>\n",
       "    </tr>\n",
       "    <tr>\n",
       "      <th>14</th>\n",
       "      <td>NaN</td>\n",
       "      <td>Good</td>\n",
       "      <td>0.477527</td>\n",
       "      <td>0.427854</td>\n",
       "      <td>0.52765</td>\n",
       "      <td>0.499165</td>\n",
       "      <td>0.454204</td>\n",
       "      <td>0.54414</td>\n",
       "    </tr>\n",
       "    <tr>\n",
       "      <th>15</th>\n",
       "      <td>NaN</td>\n",
       "      <td>Regular</td>\n",
       "      <td>0.048537</td>\n",
       "      <td>0.031052</td>\n",
       "      <td>0.0751</td>\n",
       "      <td>0.089906</td>\n",
       "      <td>0.067141</td>\n",
       "      <td>0.1194</td>\n",
       "    </tr>\n",
       "    <tr>\n",
       "      <th>16</th>\n",
       "      <td>NaN</td>\n",
       "      <td>Bad</td>\n",
       "      <td>0.003541</td>\n",
       "      <td>0.000496</td>\n",
       "      <td>0.02483</td>\n",
       "      <td>0.01009</td>\n",
       "      <td>0.004183</td>\n",
       "      <td>0.02414</td>\n",
       "    </tr>\n",
       "    <tr>\n",
       "      <th>17</th>\n",
       "      <td>NaN</td>\n",
       "      <td>Total</td>\n",
       "      <td>1.0</td>\n",
       "      <td>NaN</td>\n",
       "      <td>NaN</td>\n",
       "      <td>1.0</td>\n",
       "      <td>NaN</td>\n",
       "      <td>NaN</td>\n",
       "    </tr>\n",
       "    <tr>\n",
       "      <th>18</th>\n",
       "      <td>45-64</td>\n",
       "      <td>Excellent</td>\n",
       "      <td>0.094746</td>\n",
       "      <td>0.073124</td>\n",
       "      <td>0.12192</td>\n",
       "      <td>0.046185</td>\n",
       "      <td>0.032198</td>\n",
       "      <td>0.06584</td>\n",
       "    </tr>\n",
       "    <tr>\n",
       "      <th>19</th>\n",
       "      <td>NaN</td>\n",
       "      <td>Very Good</td>\n",
       "      <td>0.20365</td>\n",
       "      <td>0.172033</td>\n",
       "      <td>0.2394</td>\n",
       "      <td>0.154497</td>\n",
       "      <td>0.128094</td>\n",
       "      <td>0.18519</td>\n",
       "    </tr>\n",
       "    <tr>\n",
       "      <th>20</th>\n",
       "      <td>NaN</td>\n",
       "      <td>Good</td>\n",
       "      <td>0.548787</td>\n",
       "      <td>0.506978</td>\n",
       "      <td>0.58992</td>\n",
       "      <td>0.553476</td>\n",
       "      <td>0.513716</td>\n",
       "      <td>0.59256</td>\n",
       "    </tr>\n",
       "    <tr>\n",
       "      <th>21</th>\n",
       "      <td>NaN</td>\n",
       "      <td>Regular</td>\n",
       "      <td>0.133972</td>\n",
       "      <td>0.108</td>\n",
       "      <td>0.16503</td>\n",
       "      <td>0.208574</td>\n",
       "      <td>0.177932</td>\n",
       "      <td>0.24293</td>\n",
       "    </tr>\n",
       "    <tr>\n",
       "      <th>22</th>\n",
       "      <td>NaN</td>\n",
       "      <td>Bad</td>\n",
       "      <td>0.018845</td>\n",
       "      <td>0.010112</td>\n",
       "      <td>0.03486</td>\n",
       "      <td>0.037268</td>\n",
       "      <td>0.02458</td>\n",
       "      <td>0.05613</td>\n",
       "    </tr>\n",
       "    <tr>\n",
       "      <th>23</th>\n",
       "      <td>NaN</td>\n",
       "      <td>Total</td>\n",
       "      <td>1.0</td>\n",
       "      <td>NaN</td>\n",
       "      <td>NaN</td>\n",
       "      <td>1.0</td>\n",
       "      <td>NaN</td>\n",
       "      <td>NaN</td>\n",
       "    </tr>\n",
       "    <tr>\n",
       "      <th>24</th>\n",
       "      <td>65+</td>\n",
       "      <td>Excellent</td>\n",
       "      <td>0.040873</td>\n",
       "      <td>0.020396</td>\n",
       "      <td>0.08023</td>\n",
       "      <td>0.027106</td>\n",
       "      <td>0.012907</td>\n",
       "      <td>0.05604</td>\n",
       "    </tr>\n",
       "    <tr>\n",
       "      <th>25</th>\n",
       "      <td>NaN</td>\n",
       "      <td>Very Good</td>\n",
       "      <td>0.15211</td>\n",
       "      <td>0.107923</td>\n",
       "      <td>0.21013</td>\n",
       "      <td>0.101293</td>\n",
       "      <td>0.069559</td>\n",
       "      <td>0.14524</td>\n",
       "    </tr>\n",
       "    <tr>\n",
       "      <th>26</th>\n",
       "      <td>NaN</td>\n",
       "      <td>Good</td>\n",
       "      <td>0.495771</td>\n",
       "      <td>0.424873</td>\n",
       "      <td>0.56684</td>\n",
       "      <td>0.46658</td>\n",
       "      <td>0.405416</td>\n",
       "      <td>0.52877</td>\n",
       "    </tr>\n",
       "    <tr>\n",
       "      <th>27</th>\n",
       "      <td>NaN</td>\n",
       "      <td>Regular</td>\n",
       "      <td>0.27211</td>\n",
       "      <td>0.21313</td>\n",
       "      <td>0.34035</td>\n",
       "      <td>0.329171</td>\n",
       "      <td>0.273547</td>\n",
       "      <td>0.39003</td>\n",
       "    </tr>\n",
       "    <tr>\n",
       "      <th>28</th>\n",
       "      <td>NaN</td>\n",
       "      <td>Bad</td>\n",
       "      <td>0.039136</td>\n",
       "      <td>0.018575</td>\n",
       "      <td>0.08059</td>\n",
       "      <td>0.075851</td>\n",
       "      <td>0.048666</td>\n",
       "      <td>0.11636</td>\n",
       "    </tr>\n",
       "    <tr>\n",
       "      <th>29</th>\n",
       "      <td>NaN</td>\n",
       "      <td>Total</td>\n",
       "      <td>1.0</td>\n",
       "      <td>NaN</td>\n",
       "      <td>NaN</td>\n",
       "      <td>1.0</td>\n",
       "      <td>NaN</td>\n",
       "      <td>NaN</td>\n",
       "    </tr>\n",
       "  </tbody>\n",
       "</table>\n",
       "</div>"
      ],
      "text/plain": [
       "   Unnamed: 0 Unnamed: 1 Estimation lim inf IC lim sup IC Estimation.1  \\\n",
       "0    All ages  Excellent   0.152182   0.133934    0.17242     0.100654   \n",
       "1         NaN  Very Good   0.243303   0.221006    0.26708     0.210088   \n",
       "2         NaN       Good   0.478433   0.451695    0.50529     0.492307   \n",
       "3         NaN    Regular   0.111609   0.095756    0.12971     0.168296   \n",
       "4         NaN        Bad   0.014472   0.009095    0.02296     0.028656   \n",
       "5         NaN      Total        1.0        NaN        NaN          1.0   \n",
       "6       16-29  Excellent   0.365254   0.302048    0.43347     0.209061   \n",
       "7         NaN  Very Good   0.342935   0.280595    0.41121     0.343133   \n",
       "8         NaN       Good   0.273023   0.216241    0.33828     0.375451   \n",
       "9         NaN    Regular   0.018789   0.007006     0.0494     0.072355   \n",
       "10        NaN        Bad          -          -          -            -   \n",
       "11        NaN      Total   1.000001        NaN        NaN          1.0   \n",
       "12      30-44  Excellent   0.177333   0.141981    0.21924     0.143175   \n",
       "13        NaN  Very Good   0.293062   0.249689    0.34055     0.257664   \n",
       "14        NaN       Good   0.477527   0.427854    0.52765     0.499165   \n",
       "15        NaN    Regular   0.048537   0.031052     0.0751     0.089906   \n",
       "16        NaN        Bad   0.003541   0.000496    0.02483      0.01009   \n",
       "17        NaN      Total        1.0        NaN        NaN          1.0   \n",
       "18      45-64  Excellent   0.094746   0.073124    0.12192     0.046185   \n",
       "19        NaN  Very Good    0.20365   0.172033     0.2394     0.154497   \n",
       "20        NaN       Good   0.548787   0.506978    0.58992     0.553476   \n",
       "21        NaN    Regular   0.133972      0.108    0.16503     0.208574   \n",
       "22        NaN        Bad   0.018845   0.010112    0.03486     0.037268   \n",
       "23        NaN      Total        1.0        NaN        NaN          1.0   \n",
       "24        65+  Excellent   0.040873   0.020396    0.08023     0.027106   \n",
       "25        NaN  Very Good    0.15211   0.107923    0.21013     0.101293   \n",
       "26        NaN       Good   0.495771   0.424873    0.56684      0.46658   \n",
       "27        NaN    Regular    0.27211    0.21313    0.34035     0.329171   \n",
       "28        NaN        Bad   0.039136   0.018575    0.08059     0.075851   \n",
       "29        NaN      Total        1.0        NaN        NaN          1.0   \n",
       "\n",
       "   lim inf IC.1 lim sup IC.1  \n",
       "0      0.086984       0.1162  \n",
       "1      0.190977      0.23057  \n",
       "2      0.468007      0.51664  \n",
       "3      0.150763      0.18742  \n",
       "4      0.021486      0.03812  \n",
       "5           NaN          NaN  \n",
       "6      0.166024      0.25978  \n",
       "7      0.290265       0.4002  \n",
       "8       0.32104       0.4332  \n",
       "9      0.046945      0.10993  \n",
       "10            -            -  \n",
       "11          NaN          NaN  \n",
       "12     0.114454      0.17766  \n",
       "13     0.220252      0.29899  \n",
       "14     0.454204      0.54414  \n",
       "15     0.067141       0.1194  \n",
       "16     0.004183      0.02414  \n",
       "17          NaN          NaN  \n",
       "18     0.032198      0.06584  \n",
       "19     0.128094      0.18519  \n",
       "20     0.513716      0.59256  \n",
       "21     0.177932      0.24293  \n",
       "22      0.02458      0.05613  \n",
       "23          NaN          NaN  \n",
       "24     0.012907      0.05604  \n",
       "25     0.069559      0.14524  \n",
       "26     0.405416      0.52877  \n",
       "27     0.273547      0.39003  \n",
       "28     0.048666      0.11636  \n",
       "29          NaN          NaN  "
      ]
     },
     "execution_count": 3,
     "metadata": {},
     "output_type": "execute_result"
    }
   ],
   "source": [
    "df"
   ]
  },
  {
   "cell_type": "markdown",
   "id": "spatial-breeding",
   "metadata": {},
   "source": [
    "This table shows estimations of the percentage of people (Men and Women) which has a Health ranging from Bad to Excellent, as well as the Inferior and Superior limit of these estimates with a condidence interval of the 95%."
   ]
  },
  {
   "cell_type": "markdown",
   "id": "comic-mining",
   "metadata": {},
   "source": [
    " <a id = 'obj'><a/>\n",
    "## 3) Objective of this Jupyter Notebook"
   ]
  },
  {
   "cell_type": "markdown",
   "id": "unknown-florida",
   "metadata": {},
   "source": [
    "The preceeding data is easy to work with, but, how do we interpret it? This is usually done creating graphics which support the data, and making it easier to understand to an external user. \n",
    "\n",
    "In this Jupyter Notebook, I show you how to make an easy data visualization in order to compare the Health of different groups of people according to the variables Age and Sex. This graphic is part of a bigger project of creating graphics for a Web which I am currently working on."
   ]
  },
  {
   "cell_type": "markdown",
   "id": "connected-diameter",
   "metadata": {},
   "source": [
    " <a id = 'ej2'><a/>\n",
    "## 4) Process the data:"
   ]
  },
  {
   "cell_type": "markdown",
   "id": "hearing-contributor",
   "metadata": {},
   "source": [
    "Rename the columns"
   ]
  },
  {
   "cell_type": "code",
   "execution_count": 4,
   "id": "bridal-greeting",
   "metadata": {},
   "outputs": [],
   "source": [
    "mylist = ['Age', 'Health', 'Men_Est', 'Men_lim_inf', 'Men_lim_sup', 'Women_Est', 'Women_lim_inf', 'Women_lim_sup']\n",
    "df.columns = mylist"
   ]
  },
  {
   "cell_type": "markdown",
   "id": "negative-lighting",
   "metadata": {},
   "source": [
    "Fill the gaps in the variable 'Age'"
   ]
  },
  {
   "cell_type": "code",
   "execution_count": 5,
   "id": "constant-newman",
   "metadata": {},
   "outputs": [],
   "source": [
    "age = df['Age']\n",
    "for j in range(0, len(df)):\n",
    "    if j % 6 != 0:\n",
    "        df['Age'][j] = age[j - 1]"
   ]
  },
  {
   "cell_type": "markdown",
   "id": "incorporated-universe",
   "metadata": {},
   "source": [
    "Remove NA's"
   ]
  },
  {
   "cell_type": "code",
   "execution_count": 6,
   "id": "sunrise-mapping",
   "metadata": {},
   "outputs": [],
   "source": [
    "df = df.dropna()\n",
    "df.index = range(0, len(df))"
   ]
  },
  {
   "cell_type": "markdown",
   "id": "killing-present",
   "metadata": {},
   "source": [
    "Change '-' to 0"
   ]
  },
  {
   "cell_type": "code",
   "execution_count": 7,
   "id": "instrumental-cedar",
   "metadata": {},
   "outputs": [],
   "source": [
    "for col in df.columns:\n",
    "    for k in range(0, len(df)):\n",
    "        if df[col][k] == '-':\n",
    "            df[col][k] = 0"
   ]
  },
  {
   "cell_type": "markdown",
   "id": "theoretical-tenant",
   "metadata": {},
   "source": [
    "<a id = 'ej5'><a/>\n",
    "## 5) Create a new variable for Sex"
   ]
  },
  {
   "cell_type": "markdown",
   "id": "activated-contrary",
   "metadata": {},
   "source": [
    "Extract the information of the inferior and superior limit"
   ]
  },
  {
   "cell_type": "code",
   "execution_count": 8,
   "id": "aware-madrid",
   "metadata": {},
   "outputs": [],
   "source": [
    "lim_inf = []\n",
    "lim_sup = []\n",
    "\n",
    "for i in range(0, len(df)):\n",
    "    lim_inf.append(df['Men_lim_inf'][i])\n",
    "    lim_sup.append(df['Men_lim_sup'][i])\n",
    "\n",
    "for i in range(0, len(df)):\n",
    "    lim_inf.append(df['Women_lim_inf'][i])\n",
    "    lim_sup.append(df['Women_lim_sup'][i])\n",
    "\n",
    "df = df.drop(['Men_lim_inf', 'Men_lim_sup', 'Women_lim_inf', 'Women_lim_sup'],\n",
    "             axis=1)"
   ]
  },
  {
   "cell_type": "markdown",
   "id": "expressed-delhi",
   "metadata": {},
   "source": [
    "To depict the Sex in the graphic, I would like it to be a variable. I achieve this using the following function:"
   ]
  },
  {
   "cell_type": "code",
   "execution_count": 9,
   "id": "lovely-confusion",
   "metadata": {},
   "outputs": [],
   "source": [
    "df = df.melt(id_vars=['Age', 'Health'], var_name='M', value_name='Est')"
   ]
  },
  {
   "cell_type": "markdown",
   "id": "piano-automation",
   "metadata": {},
   "source": [
    "This means that, except for 'Age' and 'Health', the\n",
    "rest of the variables are now values of a new variable named 'M', and\n",
    "the values of the old variable are now in the new variable 'Est'\n"
   ]
  },
  {
   "cell_type": "code",
   "execution_count": 10,
   "id": "serious-wesley",
   "metadata": {},
   "outputs": [],
   "source": [
    "df['lim_inf'] = lim_inf\n",
    "df['lim_sup'] = lim_sup"
   ]
  },
  {
   "cell_type": "code",
   "execution_count": 11,
   "id": "caroline-bearing",
   "metadata": {},
   "outputs": [],
   "source": [
    "Sex = []\n",
    "for k in range(0, len(df)):\n",
    "    Sex.append(df['M'][k].replace('Men_Est', 'Men').replace('Women_Est', 'Women'))\n",
    "\n",
    "df['Sex'] = Sex\n",
    "df = df.drop('M', axis=1)"
   ]
  },
  {
   "cell_type": "markdown",
   "id": "tough-richards",
   "metadata": {},
   "source": [
    "<a id = 'ej3'><a/>\n",
    "## 6) Aesthetics details\n"
   ]
  },
  {
   "cell_type": "markdown",
   "id": "regional-olive",
   "metadata": {},
   "source": [
    "Move 'Est', 'lim_inf' and 'lim_sup' to a 1-100 scale"
   ]
  },
  {
   "cell_type": "code",
   "execution_count": 12,
   "id": "offensive-technology",
   "metadata": {},
   "outputs": [],
   "source": [
    "est = []\n",
    "inf = []\n",
    "sup = []\n",
    "for k in range(0, len(df)):\n",
    "    est.append(round(df['Est'][k] * 100, 1))\n",
    "    inf.append(round(df['lim_inf'][k] * 100, 1))\n",
    "    sup.append(round(df['lim_sup'][k] * 100, 1))\n",
    "\n",
    "df = df.drop(['Est', 'lim_inf', 'lim_sup'], axis=1)\n",
    "df['Est'] = est\n",
    "df['lim_inf'] = inf\n",
    "df['lim_sup'] = sup\n"
   ]
  },
  {
   "cell_type": "markdown",
   "id": "stable-defeat",
   "metadata": {},
   "source": [
    "Delete 'All ages' rows (I do not want them for the graphic)\n"
   ]
  },
  {
   "cell_type": "code",
   "execution_count": 13,
   "id": "emerging-tablet",
   "metadata": {},
   "outputs": [],
   "source": [
    "df = df[df.Age!= 'All ages']\n",
    "df.index = range(0,len(df)) # Always remember to reindex!\n"
   ]
  },
  {
   "cell_type": "code",
   "execution_count": 14,
   "id": "choice-tamil",
   "metadata": {},
   "outputs": [],
   "source": [
    "age = []\n",
    "for j in range(0, len(df)):\n",
    "    age.append(df['Age'][j])\n",
    "\n",
    "df.drop('Age', axis=1)\n",
    "\n",
    "df['Age'] = age"
   ]
  },
  {
   "cell_type": "markdown",
   "id": "civil-austin",
   "metadata": {},
   "source": [
    "And create a new variable which indicates that\n",
    "all this values are for the Survey 1"
   ]
  },
  {
   "cell_type": "code",
   "execution_count": 15,
   "id": "single-highland",
   "metadata": {},
   "outputs": [],
   "source": [
    "df['M'] = 'Survey 1'"
   ]
  },
  {
   "cell_type": "markdown",
   "id": "arbitrary-dating",
   "metadata": {},
   "source": [
    "<a id = 'ej8'><a/>\n",
    "## 7) Interactive data visualization"
   ]
  },
  {
   "cell_type": "markdown",
   "id": "driving-encoding",
   "metadata": {},
   "source": [
    "To select the stacking order in the bar graph, I create a categorical\n",
    "order with the variable 'order'"
   ]
  },
  {
   "cell_type": "code",
   "execution_count": 16,
   "id": "criminal-organizer",
   "metadata": {},
   "outputs": [],
   "source": [
    "cat_orden = ['Excellent', 'Very Good', 'Good', 'Regular', 'Bad']\n",
    "\n",
    "df['order'] = df['Health'].replace({val: -i for i, val in enumerate(cat_orden)})\n"
   ]
  },
  {
   "cell_type": "markdown",
   "id": "progressive-humor",
   "metadata": {},
   "source": [
    "Now we are in conditions to create the graphic. First I create a selector to add interactivity."
   ]
  },
  {
   "cell_type": "code",
   "execution_count": 17,
   "id": "acute-philippines",
   "metadata": {},
   "outputs": [],
   "source": [
    "selection = alt.selection_multi(fields=['Health'], bind='legend')"
   ]
  },
  {
   "cell_type": "markdown",
   "id": "entire-blend",
   "metadata": {},
   "source": [
    "and finally I create the alt.Chart() which generates the graphic"
   ]
  },
  {
   "cell_type": "code",
   "execution_count": 18,
   "id": "acoustic-behavior",
   "metadata": {},
   "outputs": [
    {
     "data": {
      "text/html": [
       "\n",
       "<div id=\"altair-viz-77573df9418941f1961f946d96131bdc\"></div>\n",
       "<script type=\"text/javascript\">\n",
       "  (function(spec, embedOpt){\n",
       "    let outputDiv = document.currentScript.previousElementSibling;\n",
       "    if (outputDiv.id !== \"altair-viz-77573df9418941f1961f946d96131bdc\") {\n",
       "      outputDiv = document.getElementById(\"altair-viz-77573df9418941f1961f946d96131bdc\");\n",
       "    }\n",
       "    const paths = {\n",
       "      \"vega\": \"https://cdn.jsdelivr.net/npm//vega@5?noext\",\n",
       "      \"vega-lib\": \"https://cdn.jsdelivr.net/npm//vega-lib?noext\",\n",
       "      \"vega-lite\": \"https://cdn.jsdelivr.net/npm//vega-lite@4.8.1?noext\",\n",
       "      \"vega-embed\": \"https://cdn.jsdelivr.net/npm//vega-embed@6?noext\",\n",
       "    };\n",
       "\n",
       "    function loadScript(lib) {\n",
       "      return new Promise(function(resolve, reject) {\n",
       "        var s = document.createElement('script');\n",
       "        s.src = paths[lib];\n",
       "        s.async = true;\n",
       "        s.onload = () => resolve(paths[lib]);\n",
       "        s.onerror = () => reject(`Error loading script: ${paths[lib]}`);\n",
       "        document.getElementsByTagName(\"head\")[0].appendChild(s);\n",
       "      });\n",
       "    }\n",
       "\n",
       "    function showError(err) {\n",
       "      outputDiv.innerHTML = `<div class=\"error\" style=\"color:red;\">${err}</div>`;\n",
       "      throw err;\n",
       "    }\n",
       "\n",
       "    function displayChart(vegaEmbed) {\n",
       "      vegaEmbed(outputDiv, spec, embedOpt)\n",
       "        .catch(err => showError(`Javascript Error: ${err.message}<br>This usually means there's a typo in your chart specification. See the javascript console for the full traceback.`));\n",
       "    }\n",
       "\n",
       "    if(typeof define === \"function\" && define.amd) {\n",
       "      requirejs.config({paths});\n",
       "      require([\"vega-embed\"], displayChart, err => showError(`Error loading script: ${err.message}`));\n",
       "    } else if (typeof vegaEmbed === \"function\") {\n",
       "      displayChart(vegaEmbed);\n",
       "    } else {\n",
       "      loadScript(\"vega\")\n",
       "        .then(() => loadScript(\"vega-lite\"))\n",
       "        .then(() => loadScript(\"vega-embed\"))\n",
       "        .catch(showError)\n",
       "        .then(() => displayChart(vegaEmbed));\n",
       "    }\n",
       "  })({\"config\": {\"view\": {\"continuousWidth\": 400, \"continuousHeight\": 300, \"strokeWidth\": 0}, \"title\": {\"color\": \"black\", \"dx\": 70, \"dy\": -20}}, \"hconcat\": [{\"facet\": {\"column\": {\"type\": \"nominal\", \"field\": \"Age\", \"header\": {\"labelFontSize\": 15}, \"title\": null}, \"row\": {\"type\": \"nominal\", \"field\": \"Sex\", \"header\": {\"labelFontSize\": 15}, \"title\": null}}, \"spec\": {\"mark\": \"bar\", \"encoding\": {\"color\": {\"type\": \"nominal\", \"field\": \"Health\", \"legend\": {\"labelLimit\": 0, \"symbolSize\": 400, \"symbolType\": \"square\", \"title\": \"\"}, \"scale\": {\"reverse\": true, \"scheme\": \"spectral\"}, \"sort\": {\"field\": \"order\", \"order\": \"descending\"}}, \"opacity\": {\"condition\": {\"value\": 1, \"selection\": \"selector001\"}, \"value\": 0.2}, \"order\": {\"type\": \"quantitative\", \"field\": \"order\"}, \"tooltip\": [{\"type\": \"quantitative\", \"field\": \"Est\", \"title\": \"Estimation\"}, {\"type\": \"quantitative\", \"field\": \"lim_inf\", \"title\": \"Inferior Limit\"}, {\"type\": \"quantitative\", \"field\": \"lim_sup\", \"title\": \"Superior Limit\"}], \"x\": {\"type\": \"nominal\", \"axis\": {\"labelAngle\": 0}, \"field\": \"M\", \"title\": null}, \"y\": {\"type\": \"quantitative\", \"field\": \"Est\", \"title\": \"Percentage Estimation\"}}, \"height\": 180, \"selection\": {\"selector001\": {\"type\": \"multi\", \"fields\": [\"Health\"], \"bind\": \"legend\"}}, \"transform\": [{\"filter\": {\"selection\": \"selector001\"}}], \"width\": 180}, \"title\": \"Health in the 1st survey with respect to Sex and Age group\"}, {\"mark\": \"text\", \"encoding\": {\"color\": {\"type\": \"nominal\", \"field\": \"Health\", \"legend\": {\"labelAlign\": \"left\", \"labelLimit\": 0, \"offset\": -20, \"symbolSize\": 400, \"symbolType\": \"square\", \"title\": \"\"}, \"scale\": {\"reverse\": true, \"scheme\": \"spectral\"}, \"sort\": {\"field\": \"order\", \"order\": \"descending\"}}, \"opacity\": {\"condition\": {\"value\": 1, \"selection\": \"selector001\"}, \"value\": 0.2}}, \"selection\": {\"selector001\": {\"type\": \"multi\", \"fields\": [\"Health\"], \"bind\": \"legend\"}}}], \"data\": {\"name\": \"data-25d27272eb4da0513aa451687aa17d9b\"}, \"$schema\": \"https://vega.github.io/schema/vega-lite/v4.8.1.json\", \"datasets\": {\"data-25d27272eb4da0513aa451687aa17d9b\": [{\"Age\": \"16-29\", \"Health\": \"Excellent\", \"Sex\": \"Men\", \"Est\": 36.5, \"lim_inf\": 30.2, \"lim_sup\": 43.3, \"M\": \"Survey 1\", \"order\": 0}, {\"Age\": \"16-29\", \"Health\": \"Very Good\", \"Sex\": \"Men\", \"Est\": 34.3, \"lim_inf\": 28.1, \"lim_sup\": 41.1, \"M\": \"Survey 1\", \"order\": -1}, {\"Age\": \"16-29\", \"Health\": \"Good\", \"Sex\": \"Men\", \"Est\": 27.3, \"lim_inf\": 21.6, \"lim_sup\": 33.8, \"M\": \"Survey 1\", \"order\": -2}, {\"Age\": \"16-29\", \"Health\": \"Regular\", \"Sex\": \"Men\", \"Est\": 1.9, \"lim_inf\": 0.7, \"lim_sup\": 4.9, \"M\": \"Survey 1\", \"order\": -3}, {\"Age\": \"16-29\", \"Health\": \"Bad\", \"Sex\": \"Men\", \"Est\": 0.0, \"lim_inf\": 0.0, \"lim_sup\": 0.0, \"M\": \"Survey 1\", \"order\": -4}, {\"Age\": \"30-44\", \"Health\": \"Excellent\", \"Sex\": \"Men\", \"Est\": 17.7, \"lim_inf\": 14.2, \"lim_sup\": 21.9, \"M\": \"Survey 1\", \"order\": 0}, {\"Age\": \"30-44\", \"Health\": \"Very Good\", \"Sex\": \"Men\", \"Est\": 29.3, \"lim_inf\": 25.0, \"lim_sup\": 34.1, \"M\": \"Survey 1\", \"order\": -1}, {\"Age\": \"30-44\", \"Health\": \"Good\", \"Sex\": \"Men\", \"Est\": 47.8, \"lim_inf\": 42.8, \"lim_sup\": 52.8, \"M\": \"Survey 1\", \"order\": -2}, {\"Age\": \"30-44\", \"Health\": \"Regular\", \"Sex\": \"Men\", \"Est\": 4.9, \"lim_inf\": 3.1, \"lim_sup\": 7.5, \"M\": \"Survey 1\", \"order\": -3}, {\"Age\": \"30-44\", \"Health\": \"Bad\", \"Sex\": \"Men\", \"Est\": 0.4, \"lim_inf\": 0.0, \"lim_sup\": 2.5, \"M\": \"Survey 1\", \"order\": -4}, {\"Age\": \"45-64\", \"Health\": \"Excellent\", \"Sex\": \"Men\", \"Est\": 9.5, \"lim_inf\": 7.3, \"lim_sup\": 12.2, \"M\": \"Survey 1\", \"order\": 0}, {\"Age\": \"45-64\", \"Health\": \"Very Good\", \"Sex\": \"Men\", \"Est\": 20.4, \"lim_inf\": 17.2, \"lim_sup\": 23.9, \"M\": \"Survey 1\", \"order\": -1}, {\"Age\": \"45-64\", \"Health\": \"Good\", \"Sex\": \"Men\", \"Est\": 54.9, \"lim_inf\": 50.7, \"lim_sup\": 59.0, \"M\": \"Survey 1\", \"order\": -2}, {\"Age\": \"45-64\", \"Health\": \"Regular\", \"Sex\": \"Men\", \"Est\": 13.4, \"lim_inf\": 10.8, \"lim_sup\": 16.5, \"M\": \"Survey 1\", \"order\": -3}, {\"Age\": \"45-64\", \"Health\": \"Bad\", \"Sex\": \"Men\", \"Est\": 1.9, \"lim_inf\": 1.0, \"lim_sup\": 3.5, \"M\": \"Survey 1\", \"order\": -4}, {\"Age\": \"65+\", \"Health\": \"Excellent\", \"Sex\": \"Men\", \"Est\": 4.1, \"lim_inf\": 2.0, \"lim_sup\": 8.0, \"M\": \"Survey 1\", \"order\": 0}, {\"Age\": \"65+\", \"Health\": \"Very Good\", \"Sex\": \"Men\", \"Est\": 15.2, \"lim_inf\": 10.8, \"lim_sup\": 21.0, \"M\": \"Survey 1\", \"order\": -1}, {\"Age\": \"65+\", \"Health\": \"Good\", \"Sex\": \"Men\", \"Est\": 49.6, \"lim_inf\": 42.5, \"lim_sup\": 56.7, \"M\": \"Survey 1\", \"order\": -2}, {\"Age\": \"65+\", \"Health\": \"Regular\", \"Sex\": \"Men\", \"Est\": 27.2, \"lim_inf\": 21.3, \"lim_sup\": 34.0, \"M\": \"Survey 1\", \"order\": -3}, {\"Age\": \"65+\", \"Health\": \"Bad\", \"Sex\": \"Men\", \"Est\": 3.9, \"lim_inf\": 1.9, \"lim_sup\": 8.1, \"M\": \"Survey 1\", \"order\": -4}, {\"Age\": \"16-29\", \"Health\": \"Excellent\", \"Sex\": \"Women\", \"Est\": 20.9, \"lim_inf\": 16.6, \"lim_sup\": 26.0, \"M\": \"Survey 1\", \"order\": 0}, {\"Age\": \"16-29\", \"Health\": \"Very Good\", \"Sex\": \"Women\", \"Est\": 34.3, \"lim_inf\": 29.0, \"lim_sup\": 40.0, \"M\": \"Survey 1\", \"order\": -1}, {\"Age\": \"16-29\", \"Health\": \"Good\", \"Sex\": \"Women\", \"Est\": 37.5, \"lim_inf\": 32.1, \"lim_sup\": 43.3, \"M\": \"Survey 1\", \"order\": -2}, {\"Age\": \"16-29\", \"Health\": \"Regular\", \"Sex\": \"Women\", \"Est\": 7.2, \"lim_inf\": 4.7, \"lim_sup\": 11.0, \"M\": \"Survey 1\", \"order\": -3}, {\"Age\": \"16-29\", \"Health\": \"Bad\", \"Sex\": \"Women\", \"Est\": 0.0, \"lim_inf\": 0.0, \"lim_sup\": 0.0, \"M\": \"Survey 1\", \"order\": -4}, {\"Age\": \"30-44\", \"Health\": \"Excellent\", \"Sex\": \"Women\", \"Est\": 14.3, \"lim_inf\": 11.4, \"lim_sup\": 17.8, \"M\": \"Survey 1\", \"order\": 0}, {\"Age\": \"30-44\", \"Health\": \"Very Good\", \"Sex\": \"Women\", \"Est\": 25.8, \"lim_inf\": 22.0, \"lim_sup\": 29.9, \"M\": \"Survey 1\", \"order\": -1}, {\"Age\": \"30-44\", \"Health\": \"Good\", \"Sex\": \"Women\", \"Est\": 49.9, \"lim_inf\": 45.4, \"lim_sup\": 54.4, \"M\": \"Survey 1\", \"order\": -2}, {\"Age\": \"30-44\", \"Health\": \"Regular\", \"Sex\": \"Women\", \"Est\": 9.0, \"lim_inf\": 6.7, \"lim_sup\": 11.9, \"M\": \"Survey 1\", \"order\": -3}, {\"Age\": \"30-44\", \"Health\": \"Bad\", \"Sex\": \"Women\", \"Est\": 1.0, \"lim_inf\": 0.4, \"lim_sup\": 2.4, \"M\": \"Survey 1\", \"order\": -4}, {\"Age\": \"45-64\", \"Health\": \"Excellent\", \"Sex\": \"Women\", \"Est\": 4.6, \"lim_inf\": 3.2, \"lim_sup\": 6.6, \"M\": \"Survey 1\", \"order\": 0}, {\"Age\": \"45-64\", \"Health\": \"Very Good\", \"Sex\": \"Women\", \"Est\": 15.4, \"lim_inf\": 12.8, \"lim_sup\": 18.5, \"M\": \"Survey 1\", \"order\": -1}, {\"Age\": \"45-64\", \"Health\": \"Good\", \"Sex\": \"Women\", \"Est\": 55.3, \"lim_inf\": 51.4, \"lim_sup\": 59.3, \"M\": \"Survey 1\", \"order\": -2}, {\"Age\": \"45-64\", \"Health\": \"Regular\", \"Sex\": \"Women\", \"Est\": 20.9, \"lim_inf\": 17.8, \"lim_sup\": 24.3, \"M\": \"Survey 1\", \"order\": -3}, {\"Age\": \"45-64\", \"Health\": \"Bad\", \"Sex\": \"Women\", \"Est\": 3.7, \"lim_inf\": 2.5, \"lim_sup\": 5.6, \"M\": \"Survey 1\", \"order\": -4}, {\"Age\": \"65+\", \"Health\": \"Excellent\", \"Sex\": \"Women\", \"Est\": 2.7, \"lim_inf\": 1.3, \"lim_sup\": 5.6, \"M\": \"Survey 1\", \"order\": 0}, {\"Age\": \"65+\", \"Health\": \"Very Good\", \"Sex\": \"Women\", \"Est\": 10.1, \"lim_inf\": 7.0, \"lim_sup\": 14.5, \"M\": \"Survey 1\", \"order\": -1}, {\"Age\": \"65+\", \"Health\": \"Good\", \"Sex\": \"Women\", \"Est\": 46.7, \"lim_inf\": 40.5, \"lim_sup\": 52.9, \"M\": \"Survey 1\", \"order\": -2}, {\"Age\": \"65+\", \"Health\": \"Regular\", \"Sex\": \"Women\", \"Est\": 32.9, \"lim_inf\": 27.4, \"lim_sup\": 39.0, \"M\": \"Survey 1\", \"order\": -3}, {\"Age\": \"65+\", \"Health\": \"Bad\", \"Sex\": \"Women\", \"Est\": 7.6, \"lim_inf\": 4.9, \"lim_sup\": 11.6, \"M\": \"Survey 1\", \"order\": -4}]}}, {\"mode\": \"vega-lite\"});\n",
       "</script>"
      ],
      "text/plain": [
       "alt.HConcatChart(...)"
      ]
     },
     "execution_count": 18,
     "metadata": {},
     "output_type": "execute_result"
    }
   ],
   "source": [
    "bar_chart = alt.Chart(df).mark_bar().encode(\n",
    "    x=alt.X('M:N', title=None, axis=alt.Axis(labelAngle=0)),\n",
    "    y=alt.Y('Est:Q', title='Percentage Estimation'),\n",
    "    color=alt.Color('Health:N', scale=alt.Scale(scheme='spectral', reverse=True),\n",
    "                    # optional: make color order in legend match stack order\n",
    "                    sort=alt.EncodingSortField('order', order='descending'),\n",
    "                    legend=alt.Legend(title=\"\", symbolSize=400, symbolType='square', labelLimit=0)),\n",
    "    order='order',  # this controls stack order\n",
    "    tooltip=[alt.Tooltip('Est', title='Estimation'), alt.Tooltip('lim_inf', title='Inferior Limit'), # this adds the hovering effect\n",
    "             alt.Tooltip('lim_sup', title='Superior Limit')],\n",
    "    opacity=alt.condition(selection, alt.value(1), alt.value(0.2))\n",
    ").add_selection(\n",
    "    selection\n",
    ").transform_filter(selection\n",
    "                   ).properties(\n",
    "    width=180,\n",
    "    height=180\n",
    ").facet(\n",
    "    title='Health in the 1st survey with respect to Sex and Age group',\n",
    "    row=alt.Row('Sex:N', title=None, header=alt.Header(labelFontSize=15)),\n",
    "    column=alt.Column('Age:N', title=None, header=alt.Header(labelFontSize=15))\n",
    ")\n",
    "\n",
    "## scale = alt.Scale(range=['darkgreen', 'palegreen', 'khaki', 'lightcoral', 'firebrick'])\n",
    "\n",
    "leyenda = alt.Chart(df).mark_text().encode(\n",
    "    color=alt.Color('Health:N', scale=alt.Scale(scheme='spectral', reverse=True),\n",
    "                    # optional: make color order in legend match stack order\n",
    "                    sort=alt.EncodingSortField('order', order='descending'),\n",
    "                    legend=alt.Legend(title=\"\",\n",
    "                                      symbolSize=400, symbolType='square', labelLimit=0, labelAlign='left',\n",
    "                                      offset=-20)),\n",
    "    opacity=alt.condition(selection, alt.value(1), alt.value(0.2))\n",
    ").add_selection(selection)\n",
    "\n",
    "example_for_application = alt.hconcat(bar_chart, leyenda).configure_view(strokeWidth=0).configure_title(\n",
    "    color='black',\n",
    "    dy=-20,\n",
    "    dx=70)\n",
    "\n",
    "example_for_application\n",
    "\n"
   ]
  },
  {
   "cell_type": "markdown",
   "id": "cleared-warning",
   "metadata": {},
   "source": [
    "In this graphic, you may contrast people's Health among different groups of Age and Sex.\n",
    "You can see the specific details of the data by hovering on the bars. Moreover, if you click on\n",
    "the right hand side legend, the graphic transforms and you can see in more detail a specific\n",
    "kind of Health. This is particularly useful if you want to compare changes among different groups of age: see for example what happens when you click on 'Excellent' and in 'Bad'.\n",
    "\n",
    "In our case, we only have one survey, but the same can be done with four survey in the\n",
    "x axis, obtaining a total of 32 clearly distinguished bars in the same graphic, which proves itself\n",
    "quite useful at the time of exploring the data."
   ]
  },
  {
   "cell_type": "markdown",
   "id": "proud-roulette",
   "metadata": {},
   "source": [
    "Hope you enjoyed it!"
   ]
  },
  {
   "cell_type": "code",
   "execution_count": null,
   "id": "virgin-concrete",
   "metadata": {},
   "outputs": [],
   "source": []
  }
 ],
 "metadata": {
  "kernelspec": {
   "display_name": "Python 3",
   "language": "python",
   "name": "python3"
  },
  "language_info": {
   "codemirror_mode": {
    "name": "ipython",
    "version": 3
   },
   "file_extension": ".py",
   "mimetype": "text/x-python",
   "name": "python",
   "nbconvert_exporter": "python",
   "pygments_lexer": "ipython3",
   "version": "3.8.8"
  }
 },
 "nbformat": 4,
 "nbformat_minor": 5
}
